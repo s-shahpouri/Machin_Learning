{
 "cells": [
  {
   "attachments": {},
   "cell_type": "markdown",
   "metadata": {},
   "source": [
    "## Hypothesis"
   ]
  },
  {
   "attachments": {},
   "cell_type": "markdown",
   "metadata": {},
   "source": [
    "Anomaly detection techniques are commonly employed in predictive maintenance strategies to identify abnormal patterns or behaviors in machine data that may indicate impending failures.\n",
    "\n",
    "By monitoring various sensor readings, operational parameters, or other relevant data from machines, anomaly detection algorithms can learn the normal behavior or expected patterns of the machines during their normal operation. When a deviation from the normal behavior is detected, it may indicate a potential failure or malfunction. The hypothesis is that the sensor readings of a pump will generate not normal values in case of an (upcoming) failure, and these can be determined with anomaly detection. Several algorithms will be used to evaluate the hypothesis"
   ]
  },
  {
   "attachments": {},
   "cell_type": "markdown",
   "metadata": {},
   "source": [
    "## Assignment"
   ]
  },
  {
   "attachments": {},
   "cell_type": "markdown",
   "metadata": {},
   "source": [
    "#### Analyze the end result plot to evaluate the algorithm's performance. Look for anomalies identified by the algorithm and compare them to known anomalies or instances of abnormal behavior in the data. Assess whether the algorithm successfully captures these anomalies and if it shows promising results in detecting abnormal patterns. Based on the plot analysis, provide argumentation for the validity of the anomaly detection algorithm hypothesis (see above). Discuss how the algorithm effectively captures anomalies in the time series data and why it is a suitable approach for the use case. Support your argument with references to relevant literature that discuss the effectiveness of the chosen algorithm or similar algorithms in detecting anomalies in time series data."
   ]
  },
  {
   "attachments": {},
   "cell_type": "markdown",
   "metadata": {},
   "source": [
    "The Isolation Forest algorithm works by isolating anomalies in the data by constructing isolation trees.\n",
    "\n",
    "These trees are binary partitioning trees that randomly select features and split the data along those features until each data point is isolated in its own leaf node.\n",
    "\n",
    "Anomalies are expected to require fewer splits to be isolated, making them stand out from the normal data points."
   ]
  },
  {
   "attachments": {},
   "cell_type": "markdown",
   "metadata": {},
   "source": [
    "One of the key advantages of the Isolation Forest algorithm is its ability to handle high-dimensional datasets and outliers without requiring complex pre-processing or assumptions about the underlying distribution of the data.\n",
    "\n",
    "This makes it particularly suitable for time series data, where anomalies can occur in various forms and patterns. \n",
    "\n",
    "Also the efficiency of the Isolation Forest algorithm is another advantage for anomaly detection in time series data. \n",
    "\n",
    "The algorithm has a linear time complexity, meaning it can process large datasets efficiently. This efficiency is beneficial for analyzing time series data, which often involves processing large volumes of data points."
   ]
  },
  {
   "attachments": {},
   "cell_type": "markdown",
   "metadata": {},
   "source": [
    "Several studies have demonstrated the effectiveness of the Isolation Forest algorithm and similar algorithms in detecting anomalies in time series data. For instance, in the survey \"Anomaly Detection in Univariate Time-Series:\n",
    "\n",
    "A Survey on the State-of-the-Art\" by Mohammad Braei and Dr.-Ing. Sebastian Wagner (2020), the authors evaluated the performance of several unsupervised anomaly detection algorithms on univariate time series data.\n",
    "\n",
    "They found that the Isolation Forest algorithm achieves a \"very high AUC-value\", indicating its ability to effectively discriminate between normal and anomalous instances.\n",
    "\n",
    "Reference:\n",
    "Braei, M., & Wagner, S. (2020). Anomaly Detection in Univariate Time-Series: A Survey on the State-of-the-Art. arXiv preprint arXiv:2011.01958. Retrieved from https://arxiv.org/abs/2011.01958"
   ]
  },
  {
   "cell_type": "code",
   "execution_count": 2,
   "metadata": {},
   "outputs": [],
   "source": [
    "# Done together with Fateme Rakhshanifar"
   ]
  }
 ],
 "metadata": {
  "kernelspec": {
   "display_name": "base",
   "language": "python",
   "name": "python3"
  },
  "language_info": {
   "codemirror_mode": {
    "name": "ipython",
    "version": 3
   },
   "file_extension": ".py",
   "mimetype": "text/x-python",
   "name": "python",
   "nbconvert_exporter": "python",
   "pygments_lexer": "ipython3",
   "version": "3.11.0"
  },
  "orig_nbformat": 4
 },
 "nbformat": 4,
 "nbformat_minor": 2
}
